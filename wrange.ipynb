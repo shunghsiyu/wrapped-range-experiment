{
 "cells": [
  {
   "cell_type": "code",
   "execution_count": null,
   "id": "f78972e0-6f4f-4bec-9b12-570ff569dca7",
   "metadata": {},
   "outputs": [],
   "source": [
    "from math import log2\n",
    "\n",
    "from z3 import *"
   ]
  },
  {
   "cell_type": "markdown",
   "id": "e6300906-a3c6-4671-ac37-defdb0656c17",
   "metadata": {},
   "source": [
    "Range tracking part of value tracking will be done with the following C structure\n",
    "\n",
    "```c\n",
    "struct wrange {\n",
    "\t/* It is possible to have start > end, this is valid and just means that we're tracking wrapped value.\n",
    "     * e.g. start=0xffffffffffffffff, end=0x0000000000000001 means that we are tracking {0xffffffffffffffff, 0x0, 0x1}.\n",
    "     */\n",
    "\tu64 start;\n",
    "\tu64 end;\n",
    "}\n",
    "```"
   ]
  },
  {
   "cell_type": "markdown",
   "id": "65538a5b-72a7-44f7-824b-f07b638d4aac",
   "metadata": {},
   "source": [
    "```python\n",
    "class Wrange:\n",
    "    SIZE = 64 # Working with 64-bit integers\n",
    "    name: str\n",
    "    start: BitVecRef\n",
    "    end: BitVecRef\n",
    "\n",
    "    def __init__(self, name, start=None, end=None):\n",
    "        self.name = name\n",
    "        self.start = BitVec(f'Wrange-{name}-start', bv=self.SIZE) if start is None else start\n",
    "        self.end = BitVec(f'Wrange-{name}-end', bv=self.SIZE) if end is None else end\n",
    "\n",
    "    def wellformed(self):\n",
    "        return If(self.end == self.start - 1, self.start == 0, False)\n",
    "        \n",
    "    def reset(self):\n",
    "        return And(self.start == BitVecVal(0, bv=self.SIZE), self.end == BitVecVal(-1, bv=self.SIZE))\n",
    "\n",
    "    def contains(self, val: BitVecRef):\n",
    "        nonwrapping_cond = And(ULE(self.start, val), ULE(val, self.end))\n",
    "        wrapping_cond = And(ULE(val, self.end), UGE(self.start, val))\n",
    "        return If(ULT(self.end, self.start), wrapping_cond, nonwrapping_cond)\n",
    "\n",
    "def wrange_add(a: Wrange, b: Wrange):\n",
    "    diff_a = a.end - a. start\n",
    "    diff_b = b.end - b.start\n",
    "    new_diff = diff_a + diff_b\n",
    "    \n",
    "    new_start = If(too_wide, BitVecVal(0, a.SIZE), a.start + b.start)\n",
    "    new_end = If(too_wide, BitVecVal(-1, a.SIZE), a.end + b.end)\n",
    "    return Wrange(f'{a.name} + {b.name}', new_start, new_end)\n",
    "```"
   ]
  },
  {
   "cell_type": "code",
   "execution_count": null,
   "id": "77dd6d46-971a-4f1d-8c2f-6b0dbeebd21c",
   "metadata": {},
   "outputs": [],
   "source": [
    "class Wrange:\n",
    "    SIZE = 64 # Working with 64-bit integers\n",
    "    name: str\n",
    "    base: BitVecRef\n",
    "    diff: BitVecRef\n",
    "\n",
    "    def __init__(self, name, base=None, diff=None):\n",
    "        self.name = name\n",
    "        self.base = BitVec(f'Wrange-{name}-base', bv=self.SIZE) if base is None else base\n",
    "        assert(self.base.size() == self.SIZE)\n",
    "        self.diff = BitVec(f'Wrange-{name}-diff', bv=self.SIZE) if diff is None else diff\n",
    "        assert(self.diff.size() == self.SIZE)\n",
    "\n",
    "    def wellformed(self):\n",
    "        return If(self.diff == BitVecVal(2**64 - 1, bv=self.SIZE), self.base == 0, True)\n",
    "        \n",
    "    def reset(self):\n",
    "        return And(self.base == BitVecVal(0, bv=self.SIZE), self.diff == BitVecVal(-1, bv=self.SIZE))\n",
    "\n",
    "    def contains(self, val: BitVecRef):\n",
    "        assert(val.size() == self.SIZE)\n",
    "        end = self.base + self.diff\n",
    "        nonwrapping_cond = And(ULE(self.base, val), ULE(val, end))\n",
    "        wrapping_cond = Or(ULE(val, end), UGE(self.base, val))\n",
    "        return If(ULT(end, self.base), wrapping_cond, nonwrapping_cond)"
   ]
  },
  {
   "cell_type": "code",
   "execution_count": null,
   "id": "515e21e3-da3d-424d-a3e0-bed9e3452c78",
   "metadata": {},
   "outputs": [],
   "source": [
    "prove(And(\n",
    "    x == BitVecVal(0, bv=64) - 1,\n",
    "    Or(ULE(x, BitVecVal(-1, bv=64) + BitVecVal(2, bv=64)), UGE(BitVecVal(-1, bv=64), x))\n",
    "))"
   ]
  },
  {
   "cell_type": "code",
   "execution_count": null,
   "id": "56212003-43df-49ea-b3ed-427171ab734a",
   "metadata": {},
   "outputs": [],
   "source": [
    "x = BitVec('x', bv=64)\n",
    "w1 = Wrange('w1', BitVecVal(1, bv=64), BitVecVal(1, bv=64))\n",
    "prove(\n",
    "    w1.contains(x) == Or(x == BitVecVal(1, bv=64), x == BitVecVal(2, bv=64))\n",
    ")\n",
    "\n",
    "x = BitVec('x', bv=64)\n",
    "w1 = Wrange('w1', BitVecVal(-1, bv=64), BitVecVal(2, bv=64))\n",
    "prove(\n",
    "    w1.contains(x) == Or(x == BitVecVal(-1, bv=64), x == BitVecVal(0, bv=64), x == BitVecVal(1, bv=64))\n",
    ")"
   ]
  },
  {
   "cell_type": "markdown",
   "id": "d3171af4-38d6-416c-afa4-c5c50001db5f",
   "metadata": {},
   "source": [
    "## Addition"
   ]
  },
  {
   "cell_type": "code",
   "execution_count": null,
   "id": "1f6c3c36-a31a-40db-b6be-b64a7447fe9b",
   "metadata": {},
   "outputs": [],
   "source": [
    "def wrange_add(a: Wrange, b: Wrange):\n",
    "    new_diff = a.diff + b.diff\n",
    "    too_wide = Or(ULT(new_diff, a.diff), ULT(new_diff, b.diff))\n",
    "    new_base = If(too_wide, BitVecVal(0, a.SIZE), a.base + b.base)\n",
    "    new_diff = If(too_wide, BitVecVal(2**64-1, a.SIZE), a.diff + b.diff)\n",
    "    return Wrange(f'{a.name} + {b.name}', new_base, new_diff)"
   ]
  },
  {
   "cell_type": "code",
   "execution_count": null,
   "id": "b8fa3b54-4d34-4d07-a7f7-d73dcd7a3a0b",
   "metadata": {},
   "outputs": [],
   "source": [
    "x = BitVec('x', bv=64)\n",
    "w = wrange_add(\n",
    "    # {1, 2, 3}\n",
    "    Wrange('w1', BitVecVal(1, bv=64), BitVecVal(2, bv=64)),\n",
    "    # + {0}\n",
    "    Wrange('w2', BitVecVal(0, bv=64), BitVecVal(0, bv=64)),\n",
    ")   # = {1, 2, 3}\n",
    "prove(               # 1 <= x <= 3\n",
    "    w.contains(x) == And(BitVecVal(1, bv=64) <= x, x <= BitVecVal(3, bv=64)),\n",
    ")\n",
    "\n",
    "x = BitVec('x', bv=64)\n",
    "w = wrange_add(\n",
    "    # {-1}\n",
    "    Wrange('w1', BitVecVal(-1, bv=64), BitVecVal(0, bv=64)),\n",
    "    # + {0, 1, 2}\n",
    "    Wrange('w2', BitVecVal(0, bv=64), BitVecVal(2, bv=64)),   \n",
    ")   # = {-1, 0, 1}\n",
    "prove(               # -1 <= x <= 1\n",
    "    w.contains(x) == And(BitVecVal(-1, bv=64) <= x, x <= BitVecVal(1, bv=64)),\n",
    ")"
   ]
  },
  {
   "cell_type": "code",
   "execution_count": null,
   "id": "5bd867f1-3792-4fad-9a6d-7dda39a8198a",
   "metadata": {},
   "outputs": [],
   "source": [
    "w1 = Wrange('w1')\n",
    "w2 = Wrange('w2')\n",
    "result = wrange_add(w1, w2)\n",
    "x = BitVec('x', bv=64)\n",
    "y = BitVec('y', bv=64)\n",
    "premise = And(\n",
    "    w1.wellformed(),\n",
    "    w2.wellformed(),\n",
    "    w1.contains(x),\n",
    "    w2.contains(y),\n",
    ")"
   ]
  },
  {
   "cell_type": "code",
   "execution_count": null,
   "id": "feeb8267-0d04-4276-a5f8-9bdfbedfc985",
   "metadata": {},
   "outputs": [],
   "source": [
    "prove(\n",
    "    Implies(\n",
    "        premise,\n",
    "        And(\n",
    "            result.contains(x + y),\n",
    "            result.wellformed(),\n",
    "        ),\n",
    "    )\n",
    ")"
   ]
  },
  {
   "cell_type": "markdown",
   "id": "279dea9b-a1ca-453d-984e-b946a8ddb02a",
   "metadata": {},
   "source": [
    "## Arithmetic Negation"
   ]
  },
  {
   "cell_type": "code",
   "execution_count": null,
   "id": "5258d8c4-7a10-4ae1-b018-1ec9f6d6be72",
   "metadata": {},
   "outputs": [],
   "source": [
    "def wrange_neg(a: Wrange):\n",
    "    return Wrange(f'(-{a.name})', If(a.diff == -1, 0, - a.base - a.diff), a.diff)"
   ]
  },
  {
   "cell_type": "code",
   "execution_count": null,
   "id": "196f9201-b49d-453f-903d-64d469f878ad",
   "metadata": {},
   "outputs": [],
   "source": [
    "x = BitVec('x', bv=64)\n",
    "w = wrange_neg(\n",
    "    # -{1, 2, 3}\n",
    "    Wrange('w1', BitVecVal(0x1, bv=64), BitVecVal(0x2, bv=64)),\n",
    ")   # = {-3, -2, -1}\n",
    "prove(\n",
    "    Implies(\n",
    "        w.contains(x),\n",
    "        And(-3 <= x, x <= -1),\n",
    "    )\n",
    ")\n",
    "\n",
    "x = BitVec('x', bv=64)\n",
    "w = wrange_neg(\n",
    "    # -{-1}\n",
    "    Wrange('w1', BitVecVal(-1, bv=64), BitVecVal(0x0, bv=64)),\n",
    ")   # = { 1}\n",
    "prove(\n",
    "    Implies(\n",
    "        w.contains(x),\n",
    "        x == 1,\n",
    "    )\n",
    ")"
   ]
  },
  {
   "cell_type": "code",
   "execution_count": null,
   "id": "1b476fd8-86e8-4f05-90fe-822a342aa7d8",
   "metadata": {},
   "outputs": [],
   "source": [
    "w1 = Wrange('w1')\n",
    "result = wrange_neg(w1)\n",
    "x = BitVec('x', bv=64)\n",
    "premise = And(\n",
    "    w1.wellformed(),\n",
    "    w1.contains(x),\n",
    ")"
   ]
  },
  {
   "cell_type": "code",
   "execution_count": null,
   "id": "76f5d60a-b111-4061-894c-1409683e9eed",
   "metadata": {},
   "outputs": [],
   "source": [
    "prove(\n",
    "    Implies(\n",
    "        premise,\n",
    "        And(\n",
    "            result.contains(-x),\n",
    "            result.wellformed(),\n",
    "        ),\n",
    "    )\n",
    ")"
   ]
  },
  {
   "cell_type": "markdown",
   "id": "3c9d4992-dfce-442e-96d2-378772b7efcf",
   "metadata": {},
   "source": [
    "## Subtraction"
   ]
  },
  {
   "cell_type": "code",
   "execution_count": null,
   "id": "d69ced45-4d5a-4fd1-ad32-9b26598f4d22",
   "metadata": {},
   "outputs": [],
   "source": [
    "#def wrange_sub(a: Wrange, b: Wrange):\n",
    "#    new_diff = a.diff + b.diff\n",
    "#    too_wide = Or(new_diff < a.diff, new_diff < b.diff)\n",
    "#    new_base = If(too_wide, BitVecVal(0, a.SIZE), a.base - b.base)\n",
    "#    new_diff = If(too_wide, BitVecVal(-1, a.SIZE), a.diff + b.diff)\n",
    "#    return Wrange(f'{a.name} - {b.name}', new_base, new_diff)\n",
    "\n",
    "def wrange_sub(a: Wrange, b: Wrange):\n",
    "    # Be a bit lazy here, improve later\n",
    "    w = wrange_add(a, wrange_neg(b))\n",
    "    return Wrange(f'{a.name} - {b.name}', w.base, w.diff)"
   ]
  },
  {
   "cell_type": "code",
   "execution_count": null,
   "id": "2420a7f0-eb24-4f81-8083-a9b97ec24429",
   "metadata": {},
   "outputs": [],
   "source": [
    "x = BitVec('x', bv=64)\n",
    "w = wrange_sub(\n",
    "    # {1, 2, 3}\n",
    "    Wrange('w1', BitVecVal(0x1, bv=64), BitVecVal(0x2, bv=64)),\n",
    "    # - {0}\n",
    "    Wrange('w2', BitVecVal(0x0, bv=64), BitVecVal(0x0, bv=64)),\n",
    ")   # = {1, 2, 3}\n",
    "prove(\n",
    "    Implies(\n",
    "        w.contains(x),\n",
    "        # 1 <= x <= 3\n",
    "        And(ULE(1, x), ULE(x, 3)),\n",
    "    )\n",
    ")\n",
    "\n",
    "x = BitVec('x', bv=64)\n",
    "w = wrange_sub(\n",
    "    # {-1}\n",
    "    Wrange('w1', BitVecVal(-1, bv=64), BitVecVal(0x0, bv=64)),\n",
    "    # - {0, 1, 2}\n",
    "    Wrange('w2', BitVecVal(0x0, bv=64), BitVecVal(0x2, bv=64)),\n",
    ")   # = {-3, -2, -1}\n",
    "prove(\n",
    "    Implies(\n",
    "        w.contains(x),\n",
    "        # -3 <= x <= -1\n",
    "        And(-3 <= x, x <= -1),\n",
    "    )\n",
    ")"
   ]
  },
  {
   "cell_type": "code",
   "execution_count": null,
   "id": "11db5d96-c763-4ede-be06-5a644b938b2c",
   "metadata": {},
   "outputs": [],
   "source": [
    "w1 = Wrange('w1')\n",
    "w2 = Wrange('w2')\n",
    "result = wrange_sub(w1, w2)\n",
    "x = BitVec('x', bv=64)\n",
    "y = BitVec('y', bv=64)\n",
    "premise = And(\n",
    "    w1.wellformed(),\n",
    "    w2.wellformed(),\n",
    "    w1.contains(x),\n",
    "    w2.contains(y),\n",
    ")"
   ]
  },
  {
   "cell_type": "code",
   "execution_count": null,
   "id": "91ebe5cb-667b-47e7-b680-2408945da7ea",
   "metadata": {},
   "outputs": [],
   "source": [
    "prove(\n",
    "    Implies(\n",
    "        premise,\n",
    "        And(\n",
    "            result.contains(x - y),\n",
    "            result.wellformed(),\n",
    "        ),\n",
    "    )\n",
    ")"
   ]
  },
  {
   "cell_type": "markdown",
   "id": "3e135eb1-5631-479f-bf92-fccd372915be",
   "metadata": {},
   "source": [
    "## Multiplication"
   ]
  },
  {
   "cell_type": "code",
   "execution_count": null,
   "id": "d40b2752-e48d-495b-af1a-4ffc092e610b",
   "metadata": {},
   "outputs": [],
   "source": [
    "def wrange_mul(a: Wrange, b: Wrange):\n",
    "    new_diff = a.diff * b.diff\n",
    "    # Being very conservative here, at the very least diff <= U32_MAX would also work\n",
    "    too_wide = Or(UGT(a.diff, BitVecVal(0xffff, bv=a.SIZE)), UGT(b.diff, BitVecVal(0xffff, bv=b.SIZE)))\n",
    "    new_base = If(too_wide, BitVecVal(0, a.SIZE), a.base * b.base)\n",
    "    new_diff = If(too_wide, BitVecVal(-1, a.SIZE), a.diff * b.diff)\n",
    "    return Wrange(f'{a.name} * {b.name}', new_base, new_diff)"
   ]
  },
  {
   "cell_type": "code",
   "execution_count": null,
   "id": "cf024a71-c521-4618-a603-b353448ad892",
   "metadata": {},
   "outputs": [],
   "source": [
    "x = BitVec('x', bv=64)\n",
    "w = wrange_mul(\n",
    "    # {1, 2, 3}\n",
    "    Wrange('w1', BitVecVal(0x1, bv=64), BitVecVal(0x2, bv=64)),\n",
    "    # * {0}\n",
    "    Wrange('w2', BitVecVal(0x0, bv=64), BitVecVal(0x0, bv=64)),\n",
    ")   # = {0}\n",
    "prove(\n",
    "    Implies(\n",
    "        w.contains(x),\n",
    "        x == 0,\n",
    "    )\n",
    ")\n",
    "\n",
    "x = BitVec('x', bv=64)\n",
    "w = wrange_mul(\n",
    "    # {-1}\n",
    "    Wrange('w1', BitVecVal(-1, bv=64), BitVecVal(0x0, bv=64)),\n",
    "    # {0, 1, 2}\n",
    "    Wrange('w2', BitVecVal(0x0, bv=64), BitVecVal(0x2, bv=64)),\n",
    ")   # {-2, -1, 0}\n",
    "prove(\n",
    "    Implies(\n",
    "        w.contains(x),\n",
    "        # -2 <= x <= 0\n",
    "        And(-2 <= x, x <= 0),\n",
    "    )\n",
    ")"
   ]
  },
  {
   "cell_type": "code",
   "execution_count": null,
   "id": "9edf6aed-336f-4e7f-84ee-c62aaabd4086",
   "metadata": {},
   "outputs": [],
   "source": [
    "w1 = Wrange('w1')\n",
    "w2 = Wrange('w2')\n",
    "result = wrange_mul(w1, w2)\n",
    "x = BitVec('x', bv=64)\n",
    "y = BitVec('y', bv=64)\n",
    "premise = And(\n",
    "    w1.wellformed(),\n",
    "    w2.wellformed(),\n",
    "    w1.contains(x),\n",
    "    w2.contains(y),\n",
    ")"
   ]
  },
  {
   "cell_type": "code",
   "execution_count": null,
   "id": "45131308-7bb5-4fb6-9a16-c4dfd2ee4fac",
   "metadata": {},
   "outputs": [],
   "source": [
    "prove(\n",
    "    Implies(\n",
    "        premise,\n",
    "        And(\n",
    "            result.contains(x * y),\n",
    "            result.wellformed(),\n",
    "        ),\n",
    "    )\n",
    ")"
   ]
  },
  {
   "cell_type": "markdown",
   "id": "a197c5cc-d0f2-4c22-9d01-5f236b909f86",
   "metadata": {},
   "source": [
    "## Bitwise-AND"
   ]
  },
  {
   "cell_type": "code",
   "execution_count": null,
   "id": "3ef8cfe8-014d-4b22-b91e-f05ac573aee7",
   "metadata": {},
   "outputs": [],
   "source": [
    "def wrange_and(a: Wrange, b: Wrange):\n",
    "    return Wrange(f'{a.name} & {b.name}', base=BitVecVal(0, bv=a.SIZE), diff=BitVecVal(0, bv=a.SIZE))"
   ]
  },
  {
   "cell_type": "code",
   "execution_count": null,
   "id": "64a41fdb-e127-4885-b0c5-43a17eafe3f8",
   "metadata": {},
   "outputs": [],
   "source": [
    "x = BitVec('x', bv=64)\n",
    "w = wrange_and(\n",
    "    # {1 (0b01), 2 (0b10), 3 (0b11)}\n",
    "    Wrange('w1', BitVecVal(0x1, bv=64), BitVecVal(0x2, bv=64)),\n",
    "    # & { 0 (0b00) }\n",
    "    Wrange('w2', BitVecVal(0x0, bv=64), BitVecVal(0x0, bv=64)),\n",
    ")   # = { 0 (ob00) }\n",
    "prove(\n",
    "    w.contains(x) == (x == 0),\n",
    ")\n",
    "\n",
    "x = BitVec('x', bv=64)\n",
    "w = wrange_and(\n",
    "    # {-1 (0xffffffffffffffff) }\n",
    "    Wrange('w1', BitVecVal(-1, bv=64), BitVecVal(0x0, bv=64)),\n",
    "    # & {0 (0b00), 1 (0b01), 2 (0b10)}\n",
    "    Wrange('w2', BitVecVal(0x0, bv=64), BitVecVal(0x2, bv=64)),\n",
    ")   # = {0 (0b00), 1 (0b01), 2 (0b10)}\n",
    "prove(\n",
    "    w.contains(x) == And(0 <= x, x <= 2),\n",
    ")"
   ]
  },
  {
   "cell_type": "code",
   "execution_count": null,
   "id": "40fa671f-64f6-45df-9dd1-df549485f0d2",
   "metadata": {},
   "outputs": [],
   "source": [
    "w1 = Wrange('w1')\n",
    "w2 = Wrange('w2')\n",
    "result = wrange_and(w1, w2)\n",
    "x = BitVec('x', bv=64)\n",
    "y = BitVec('y', bv=64)\n",
    "premise = And(\n",
    "    w1.wellformed(),\n",
    "    w2.wellformed(),\n",
    "    w1.contains(x),\n",
    "    w2.contains(y),\n",
    ")"
   ]
  },
  {
   "cell_type": "code",
   "execution_count": null,
   "id": "27c453dc-0b1c-4a9f-b190-0f7693b4959e",
   "metadata": {},
   "outputs": [],
   "source": [
    "prove(\n",
    "    Implies(\n",
    "        premise,\n",
    "        And(\n",
    "            result.contains(x & y),\n",
    "            result.wellformed(),\n",
    "        ),\n",
    "    )\n",
    ")"
   ]
  },
  {
   "cell_type": "markdown",
   "id": "e19c5ed0-590b-45b0-9c0d-5b956a4635fb",
   "metadata": {},
   "source": [
    "## Evaluation"
   ]
  },
  {
   "cell_type": "code",
   "execution_count": null,
   "id": "48f9b40f-f811-42d0-98da-5a702160d885",
   "metadata": {},
   "outputs": [],
   "source": [
    "s = Optimize()\n",
    "w1 = Wrange('w1', base=BitVecVal(-1, bv=64), diff=BitVecVal(0, bv=64))\n",
    "w2 = Wrange('w2', base=BitVecVal(0, bv=64), diff=BitVecVal(2, bv=64))\n",
    "x = BitVec('x', bv=64)\n",
    "w = wrange_add(w1, w2)\n",
    "s.minimize(x)\n",
    "s.minimize(w1.base)\n",
    "s.minimize(w2.base)\n",
    "s.minimize(w1.diff)\n",
    "s.minimize(w2.diff)\n",
    "s.add(\n",
    "    Not(w.contains(x) == And(BitVecVal(-1, bv=64) <= x, x <= BitVecVal(1, bv=64))),\n",
    ")\n",
    "s.check()"
   ]
  },
  {
   "cell_type": "code",
   "execution_count": null,
   "id": "5f974ba6-7b66-4e10-b6ad-1bc5f821b1b6",
   "metadata": {},
   "outputs": [],
   "source": [
    "m = s.model()\n",
    "m"
   ]
  },
  {
   "cell_type": "code",
   "execution_count": null,
   "id": "9aa2d1f8-5e22-4223-ab0d-7800c861b9bc",
   "metadata": {},
   "outputs": [],
   "source": [
    "m.eval(x)"
   ]
  },
  {
   "cell_type": "code",
   "execution_count": null,
   "id": "000137a6-a6da-4d8b-923b-dfc0d252fe4d",
   "metadata": {},
   "outputs": [],
   "source": [
    "m.eval(w1.base), m.eval(w1.diff), m.eval(w1.base + w1.diff)"
   ]
  },
  {
   "cell_type": "code",
   "execution_count": null,
   "id": "b6ddfa02-60b0-47c9-a4c3-19fe58984db9",
   "metadata": {},
   "outputs": [],
   "source": [
    "m.eval(w2.base), m.eval(w2.diff), m.eval(w2.base + w2.diff)"
   ]
  },
  {
   "cell_type": "code",
   "execution_count": null,
   "id": "41c0e8e2-48ed-483b-99c6-c7a323e0fe10",
   "metadata": {},
   "outputs": [],
   "source": [
    "m.eval(w.base), m.eval(w.diff), m.eval(w.base + w.diff)"
   ]
  },
  {
   "cell_type": "code",
   "execution_count": null,
   "id": "b9d34d29-daa8-48bd-8552-98b651a4aa0c",
   "metadata": {},
   "outputs": [],
   "source": [
    "m.eval(w.contains(x))"
   ]
  },
  {
   "cell_type": "code",
   "execution_count": null,
   "id": "59b4f592-672d-45be-bfab-1a36e78eeb03",
   "metadata": {},
   "outputs": [],
   "source": [
    "m.eval(w1.wellformed()), m.eval(w2.wellformed()), m.eval(w.wellformed())"
   ]
  },
  {
   "cell_type": "code",
   "execution_count": null,
   "id": "c84a1ae2-8429-4ad4-94ff-45010d1f861c",
   "metadata": {},
   "outputs": [],
   "source": [
    "x.size()"
   ]
  },
  {
   "cell_type": "code",
   "execution_count": null,
   "id": "51b3c723-f398-4fe1-b5d8-6e529fed88b0",
   "metadata": {},
   "outputs": [],
   "source": []
  }
 ],
 "metadata": {
  "kernelspec": {
   "display_name": "Python 3 (ipykernel)",
   "language": "python",
   "name": "python3"
  },
  "language_info": {
   "codemirror_mode": {
    "name": "ipython",
    "version": 3
   },
   "file_extension": ".py",
   "mimetype": "text/x-python",
   "name": "python",
   "nbconvert_exporter": "python",
   "pygments_lexer": "ipython3",
   "version": "3.11.5"
  }
 },
 "nbformat": 4,
 "nbformat_minor": 5
}
