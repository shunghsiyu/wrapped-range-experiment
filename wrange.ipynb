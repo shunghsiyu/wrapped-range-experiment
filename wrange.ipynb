{
 "cells": [
  {
   "cell_type": "code",
   "execution_count": null,
   "id": "f78972e0-6f4f-4bec-9b12-570ff569dca7",
   "metadata": {},
   "outputs": [],
   "source": [
    "from math import log2\n",
    "\n",
    "from z3 import *"
   ]
  },
  {
   "cell_type": "code",
   "execution_count": null,
   "id": "7f1c9f9f-b78a-4a3e-8b33-62ca82b37521",
   "metadata": {},
   "outputs": [],
   "source": [
    "BitVec64 = lambda n: BitVec(n, bv=64)\n",
    "BitVecVal64 = lambda v: BitVecVal(v, bv=64)"
   ]
  },
  {
   "cell_type": "markdown",
   "id": "e6300906-a3c6-4671-ac37-defdb0656c17",
   "metadata": {},
   "source": [
    "Range tracking part of value tracking will be done with the following C structure\n",
    "\n",
    "```c\n",
    "struct wrange {\n",
    "\tu64 start;\n",
    "\tu64 length;\n",
    "}\n",
    "```"
   ]
  },
  {
   "cell_type": "code",
   "execution_count": null,
   "id": "77dd6d46-971a-4f1d-8c2f-6b0dbeebd21c",
   "metadata": {},
   "outputs": [],
   "source": [
    "class Wrange:\n",
    "    SIZE = 64 # Working with 64-bit integers\n",
    "    name: str\n",
    "    start: BitVecRef\n",
    "    length: BitVecRef\n",
    "\n",
    "    def __init__(self, name, start=None, length=None):\n",
    "        self.name = name\n",
    "        self.start = BitVec(f'Wrange-{name}-start', bv=self.SIZE) if start is None else start\n",
    "        assert(self.start.size() == self.SIZE)\n",
    "        self.length = BitVec(f'Wrange-{name}-length', bv=self.SIZE) if length is None else length\n",
    "        assert(self.length.size() == self.SIZE)\n",
    "\n",
    "    def print(self, model):\n",
    "        name = self.name\n",
    "        pad = ' ' * (len(self.name) + 1)\n",
    "        start = model.eval(self.start).as_long()\n",
    "        length = model.eval(self.length).as_long()\n",
    "        end = model.eval(self.end).as_long()\n",
    "        print(f'{name}(start={start}/{hex(start)},\\n{pad}length={length}/{hex(length)},\\n{pad}end={end}/{hex(end)})')\n",
    "\n",
    "    def wellformed(self):\n",
    "        return If(self.length == BitVecVal(2**64 - 1, bv=self.SIZE), self.start == 0, True)\n",
    "        \n",
    "    def reset(self):\n",
    "        return And(self.start == BitVecVal(0, bv=self.SIZE), self.length == BitVecVal(-1, bv=self.SIZE))\n",
    "\n",
    "    @property\n",
    "    def end(self):\n",
    "        return self.start + self.length\n",
    "        \n",
    "    @property\n",
    "    def uwrapping(self):\n",
    "        #return ULT(self.end, self.start)\n",
    "        return ULT(BitVecVal(0, bv=self.SIZE) - self.start, self.length)\n",
    "        \n",
    "    @property\n",
    "    def umin(self):\n",
    "        return If(self.uwrapping, BitVecVal(0, bv=self.SIZE), self.start)\n",
    "\n",
    "    @property\n",
    "    def umax(self):\n",
    "        end = self.start + self.length\n",
    "        return If(self.uwrapping, BitVecVal(-1, bv=self.SIZE), end)\n",
    "        \n",
    "    def contains(self, val: BitVecRef):\n",
    "        assert(val.size() == self.SIZE)\n",
    "        nonwrapping_cond = And(ULE(self.umin, val), ULE(val, self.umax))\n",
    "        wrapping_cond = Or(ULE(x, w1.end), ULE(w1.start, x))\n",
    "        return If(self.uwrapping, wrapping_cond, nonwrapping_cond)"
   ]
  },
  {
   "cell_type": "code",
   "execution_count": null,
   "id": "56212003-43df-49ea-b3ed-427171ab734a",
   "metadata": {},
   "outputs": [],
   "source": [
    "x = BitVec64('x')\n",
    "w1 = Wrange('w1', BitVecVal64(1), BitVecVal64(2))\n",
    "prove(\n",
    "    w1.contains(x) == Or(x == BitVecVal64(1), x == BitVecVal64(2), x == BitVecVal64(3))\n",
    ")\n",
    "\n",
    "x = BitVec64('x')\n",
    "w1 = Wrange('w1', BitVecVal64(-1), BitVecVal64(2))\n",
    "prove(\n",
    "    w1.contains(x) == Or(x == BitVecVal64(-1), x == BitVecVal64(0), x == BitVecVal64(1))\n",
    ")"
   ]
  },
  {
   "cell_type": "markdown",
   "id": "d3171af4-38d6-416c-afa4-c5c50001db5f",
   "metadata": {},
   "source": [
    "## Addition"
   ]
  },
  {
   "cell_type": "code",
   "execution_count": null,
   "id": "1f6c3c36-a31a-40db-b6be-b64a7447fe9b",
   "metadata": {},
   "outputs": [],
   "source": [
    "def wrange_add(a: Wrange, b: Wrange):\n",
    "    new_length = a.length + b.length\n",
    "    too_wide = Or(ULT(new_length, a.length), ULT(new_length, b.length))\n",
    "    new_start = If(too_wide, BitVecVal(0, a.SIZE), a.start + b.start)\n",
    "    new_length = If(too_wide, BitVecVal(2**64-1, a.SIZE), a.length + b.length)\n",
    "    return Wrange(f'{a.name} + {b.name}', If(new_length == BitVecVal(-1, bv=a.SIZE), BitVecVal(0, bv=a.SIZE), new_start), new_length)"
   ]
  },
  {
   "cell_type": "code",
   "execution_count": null,
   "id": "b8fa3b54-4d34-4d07-a7f7-d73dcd7a3a0b",
   "metadata": {},
   "outputs": [],
   "source": [
    "x = BitVec64('x')\n",
    "w = wrange_add(\n",
    "    # {1, 2, 3}\n",
    "    Wrange('w1', BitVecVal64(1), BitVecVal64(2)),\n",
    "    # + {0}\n",
    "    Wrange('w2', BitVecVal64(0), BitVecVal64(0)),\n",
    ")   # = {1, 2, 3}\n",
    "prove(               # 1 <= x <= 3\n",
    "    w.contains(x) == And(BitVecVal64(1) <= x, x <= BitVecVal64(3)),\n",
    ")\n",
    "\n",
    "x = BitVec64('x')\n",
    "w = wrange_add(\n",
    "    # {-1}\n",
    "    Wrange('w1', BitVecVal64(-1), BitVecVal64(0)),\n",
    "    # + {0, 1, 2}\n",
    "    Wrange('w2', BitVecVal64(0), BitVecVal64(2)),   \n",
    ")   # = {-1, 0, 1}\n",
    "prove(               # -1 <= x <= 1\n",
    "    w.contains(x) == And(BitVecVal64(-1) <= x, x <= BitVecVal64(1)),\n",
    ")"
   ]
  },
  {
   "cell_type": "code",
   "execution_count": null,
   "id": "5bd867f1-3792-4fad-9a6d-7dda39a8198a",
   "metadata": {},
   "outputs": [],
   "source": [
    "w1 = Wrange('w1')\n",
    "w2 = Wrange('w2')\n",
    "result = wrange_add(w1, w2)\n",
    "x = BitVec64('x')\n",
    "y = BitVec64('y')\n",
    "premise = And(\n",
    "    w1.wellformed(),\n",
    "    w2.wellformed(),\n",
    "    w1.contains(x),\n",
    "    w2.contains(y),\n",
    ")"
   ]
  },
  {
   "cell_type": "code",
   "execution_count": null,
   "id": "feeb8267-0d04-4276-a5f8-9bdfbedfc985",
   "metadata": {},
   "outputs": [],
   "source": [
    "prove(\n",
    "    Implies(\n",
    "        premise,\n",
    "        And(\n",
    "            result.contains(x + y),\n",
    "            result.wellformed(),\n",
    "        ),\n",
    "    )\n",
    ")"
   ]
  },
  {
   "cell_type": "markdown",
   "id": "279dea9b-a1ca-453d-984e-b946a8ddb02a",
   "metadata": {},
   "source": [
    "## Arithmetic Negation"
   ]
  },
  {
   "cell_type": "code",
   "execution_count": null,
   "id": "5258d8c4-7a10-4ae1-b018-1ec9f6d6be72",
   "metadata": {},
   "outputs": [],
   "source": [
    "def wrange_neg(a: Wrange):\n",
    "    return Wrange(f'(-{a.name})', If(a.length == -1, 0, - a.start - a.length), a.length)"
   ]
  },
  {
   "cell_type": "code",
   "execution_count": null,
   "id": "196f9201-b49d-453f-903d-64d469f878ad",
   "metadata": {},
   "outputs": [],
   "source": [
    "x = BitVec64('x')\n",
    "w = wrange_neg(\n",
    "    # -{1, 2, 3}\n",
    "    Wrange('w1', BitVecVal64(0x1), BitVecVal64(0x2)),\n",
    ")   # = {-3, -2, -1}\n",
    "prove(\n",
    "    Implies(\n",
    "        w.contains(x),\n",
    "        And(-3 <= x, x <= -1),\n",
    "    )\n",
    ")\n",
    "\n",
    "x = BitVec64('x')\n",
    "w = wrange_neg(\n",
    "    # -{-1}\n",
    "    Wrange('w1', BitVecVal64(-1), BitVecVal64(0x0)),\n",
    ")   # = { 1}\n",
    "prove(\n",
    "    Implies(\n",
    "        w.contains(x),\n",
    "        x == 1,\n",
    "    )\n",
    ")"
   ]
  },
  {
   "cell_type": "code",
   "execution_count": null,
   "id": "1b476fd8-86e8-4f05-90fe-822a342aa7d8",
   "metadata": {},
   "outputs": [],
   "source": [
    "w1 = Wrange('w1')\n",
    "result = wrange_neg(w1)\n",
    "x = BitVec64('x')\n",
    "premise = And(\n",
    "    w1.wellformed(),\n",
    "    w1.contains(x),\n",
    ")"
   ]
  },
  {
   "cell_type": "code",
   "execution_count": null,
   "id": "76f5d60a-b111-4061-894c-1409683e9eed",
   "metadata": {},
   "outputs": [],
   "source": [
    "prove(\n",
    "    Implies(\n",
    "        premise,\n",
    "        And(\n",
    "            result.contains(-x),\n",
    "            result.wellformed(),\n",
    "        ),\n",
    "    )\n",
    ")"
   ]
  },
  {
   "cell_type": "markdown",
   "id": "3c9d4992-dfce-442e-96d2-378772b7efcf",
   "metadata": {},
   "source": [
    "## Subtraction"
   ]
  },
  {
   "cell_type": "code",
   "execution_count": null,
   "id": "d69ced45-4d5a-4fd1-ad32-9b26598f4d22",
   "metadata": {},
   "outputs": [],
   "source": [
    "def wrange_sub(a: Wrange, b: Wrange):\n",
    "    # Be a bit lazy here, improve later\n",
    "    w = wrange_add(a, wrange_neg(b))\n",
    "    return Wrange(f'{a.name} - {b.name}', w.start, w.length)"
   ]
  },
  {
   "cell_type": "code",
   "execution_count": null,
   "id": "2420a7f0-eb24-4f81-8083-a9b97ec24429",
   "metadata": {},
   "outputs": [],
   "source": [
    "x = BitVec64('x')\n",
    "w = wrange_sub(\n",
    "    # {1, 2, 3}\n",
    "    Wrange('w1', BitVecVal64(0x1), BitVecVal64(0x2)),\n",
    "    # - {0}\n",
    "    Wrange('w2', BitVecVal64(0x0), BitVecVal64(0x0)),\n",
    ")   # = {1, 2, 3}\n",
    "prove(\n",
    "    Implies(\n",
    "        w.contains(x),\n",
    "        # 1 <= x <= 3\n",
    "        And(ULE(1, x), ULE(x, 3)),\n",
    "    )\n",
    ")\n",
    "\n",
    "x = BitVec64('x')\n",
    "w = wrange_sub(\n",
    "    # {-1}\n",
    "    Wrange('w1', BitVecVal64(-1), BitVecVal64(0x0)),\n",
    "    # - {0, 1, 2}\n",
    "    Wrange('w2', BitVecVal64(0x0), BitVecVal64(0x2)),\n",
    ")   # = {-3, -2, -1}\n",
    "prove(\n",
    "    Implies(\n",
    "        w.contains(x),\n",
    "        # -3 <= x <= -1\n",
    "        And(-3 <= x, x <= -1),\n",
    "    )\n",
    ")"
   ]
  },
  {
   "cell_type": "code",
   "execution_count": null,
   "id": "11db5d96-c763-4ede-be06-5a644b938b2c",
   "metadata": {},
   "outputs": [],
   "source": [
    "w1 = Wrange('w1')\n",
    "w2 = Wrange('w2')\n",
    "result = wrange_sub(w1, w2)\n",
    "x = BitVec64('x')\n",
    "y = BitVec64('y')\n",
    "premise = And(\n",
    "    w1.wellformed(),\n",
    "    w2.wellformed(),\n",
    "    w1.contains(x),\n",
    "    w2.contains(y),\n",
    ")"
   ]
  },
  {
   "cell_type": "code",
   "execution_count": null,
   "id": "91ebe5cb-667b-47e7-b680-2408945da7ea",
   "metadata": {},
   "outputs": [],
   "source": [
    "prove(\n",
    "    Implies(\n",
    "        premise,\n",
    "        And(\n",
    "            result.contains(x - y),\n",
    "            result.wellformed(),\n",
    "        ),\n",
    "    )\n",
    ")"
   ]
  },
  {
   "cell_type": "markdown",
   "id": "3e135eb1-5631-479f-bf92-fccd372915be",
   "metadata": {},
   "source": [
    "## Multiplication"
   ]
  },
  {
   "cell_type": "code",
   "execution_count": null,
   "id": "d40b2752-e48d-495b-af1a-4ffc092e610b",
   "metadata": {},
   "outputs": [],
   "source": [
    "def wrange_mul(a: Wrange, b: Wrange):\n",
    "    too_wide = Or(UGT(a.length, BitVecVal(0xffffffff, bv=a.SIZE)), UGT(b.length, BitVecVal(0xffffffff, bv=b.SIZE)))\n",
    "    new_start = If(too_wide, BitVecVal(0, a.SIZE), a.start * b.start)\n",
    "    new_length = If(too_wide, BitVecVal(-1, a.SIZE), a.length * b.length)\n",
    "    return Wrange(f'{a.name} * {b.name}', new_start, new_length)"
   ]
  },
  {
   "cell_type": "code",
   "execution_count": null,
   "id": "cf024a71-c521-4618-a603-b353448ad892",
   "metadata": {},
   "outputs": [],
   "source": [
    "x = BitVec64('x')\n",
    "w = wrange_mul(\n",
    "    # {1, 2, 3}\n",
    "    Wrange('w1', BitVecVal64(0x1), BitVecVal64(0x2)),\n",
    "    # * {0}\n",
    "    Wrange('w2', BitVecVal64(0x0), BitVecVal64(0x0)),\n",
    ")   # = {0}\n",
    "prove(\n",
    "    Implies(\n",
    "        w.contains(x),\n",
    "        x == 0,\n",
    "    )\n",
    ")\n",
    "\n",
    "x = BitVec64('x')\n",
    "w = wrange_mul(\n",
    "    # {-1}\n",
    "    Wrange('w1', BitVecVal64(-1), BitVecVal64(0x0)),\n",
    "    # {0, 1, 2}\n",
    "    Wrange('w2', BitVecVal64(0x0), BitVecVal64(0x2)),\n",
    ")   # {-2, -1, 0}\n",
    "prove(\n",
    "    Implies(\n",
    "        w.contains(x),\n",
    "        # -2 <= x <= 0\n",
    "        And(-2 <= x, x <= 0),\n",
    "    )\n",
    ")"
   ]
  },
  {
   "cell_type": "code",
   "execution_count": null,
   "id": "9edf6aed-336f-4e7f-84ee-c62aaabd4086",
   "metadata": {},
   "outputs": [],
   "source": [
    "w1 = Wrange('w1')\n",
    "w2 = Wrange('w2')\n",
    "result = wrange_mul(w1, w2)\n",
    "x = BitVec64('x')\n",
    "y = BitVec64('y')\n",
    "premise = And(\n",
    "    w1.wellformed(),\n",
    "    w2.wellformed(),\n",
    "    w1.contains(x),\n",
    "    w2.contains(y),\n",
    ")"
   ]
  },
  {
   "cell_type": "code",
   "execution_count": null,
   "id": "45131308-7bb5-4fb6-9a16-c4dfd2ee4fac",
   "metadata": {},
   "outputs": [],
   "source": [
    "prove(\n",
    "    Implies(\n",
    "        premise,\n",
    "        And(\n",
    "            result.contains(x * y),\n",
    "            result.wellformed(),\n",
    "        ),\n",
    "    )\n",
    ")"
   ]
  },
  {
   "cell_type": "markdown",
   "id": "e19c5ed0-590b-45b0-9c0d-5b956a4635fb",
   "metadata": {},
   "source": [
    "## Evaluation"
   ]
  },
  {
   "cell_type": "code",
   "execution_count": null,
   "id": "48f9b40f-f811-42d0-98da-5a702160d885",
   "metadata": {},
   "outputs": [],
   "source": [
    "s = Optimize()\n",
    "x = BitVec64('x')\n",
    "y = BitVec64('y')\n",
    "w1 = Wrange('w1')\n",
    "w2 = Wrange('w2')\n",
    "result = wrange_add(w1, w2)\n",
    "premise = And(\n",
    "    w1.wellformed(),\n",
    "    w2.wellformed(),\n",
    "    w1.contains(x),\n",
    "    w2.contains(y),\n",
    "    x == BitVecVal64(-1),\n",
    ")\n",
    "s.minimize(y)\n",
    "s.minimize(w1.length)\n",
    "s.minimize(w2.start)\n",
    "s.add(Not(\n",
    "    Implies(\n",
    "        premise,\n",
    "        And(\n",
    "            result.contains(x + y),\n",
    "            result.wellformed(),\n",
    "        ),\n",
    "    )\n",
    "))\n",
    "s.check()"
   ]
  },
  {
   "cell_type": "code",
   "execution_count": null,
   "id": "5f974ba6-7b66-4e10-b6ad-1bc5f821b1b6",
   "metadata": {},
   "outputs": [],
   "source": [
    "m = s.model()\n",
    "m"
   ]
  },
  {
   "cell_type": "code",
   "execution_count": null,
   "id": "9aa2d1f8-5e22-4223-ab0d-7800c861b9bc",
   "metadata": {},
   "outputs": [],
   "source": [
    "f'x={m.eval(x)}, w1.contains(x)={m.eval(w1.contains(x))}'"
   ]
  },
  {
   "cell_type": "code",
   "execution_count": null,
   "id": "000137a6-a6da-4d8b-923b-dfc0d252fe4d",
   "metadata": {},
   "outputs": [],
   "source": [
    "w1.print(m)"
   ]
  },
  {
   "cell_type": "code",
   "execution_count": null,
   "id": "426c1863-b2db-4eac-b098-2571fa509fb1",
   "metadata": {},
   "outputs": [],
   "source": [
    "f'y={m.eval(y)}, w2.contains(y)={m.eval(w2.contains(y))}'"
   ]
  },
  {
   "cell_type": "code",
   "execution_count": null,
   "id": "b6ddfa02-60b0-47c9-a4c3-19fe58984db9",
   "metadata": {},
   "outputs": [],
   "source": [
    "w2.print(m)"
   ]
  },
  {
   "cell_type": "code",
   "execution_count": null,
   "id": "41c0e8e2-48ed-483b-99c6-c7a323e0fe10",
   "metadata": {},
   "outputs": [],
   "source": [
    "result.print(m)"
   ]
  },
  {
   "cell_type": "code",
   "execution_count": null,
   "id": "b9d34d29-daa8-48bd-8552-98b651a4aa0c",
   "metadata": {},
   "outputs": [],
   "source": [
    "f'x+y={m.eval(x+y)}, result.contains(x+y)={m.eval(result.contains(x+y))}'"
   ]
  },
  {
   "cell_type": "code",
   "execution_count": null,
   "id": "59b4f592-672d-45be-bfab-1a36e78eeb03",
   "metadata": {},
   "outputs": [],
   "source": [
    "m.eval(w1.wellformed()), m.eval(w2.wellformed()), m.eval(result.wellformed())"
   ]
  },
  {
   "cell_type": "code",
   "execution_count": null,
   "id": "ea83c138-0bd5-4775-8430-f682da004632",
   "metadata": {},
   "outputs": [],
   "source": [
    "# wrapping?\n",
    "m.eval(w1.uwrapping)"
   ]
  },
  {
   "cell_type": "code",
   "execution_count": null,
   "id": "51b3c723-f398-4fe1-b5d8-6e529fed88b0",
   "metadata": {},
   "outputs": [],
   "source": [
    "# non-wrapping cond AND\n",
    "m.eval(ULE(w1.start, x)), m.eval(ULE(x, w1.end))"
   ]
  },
  {
   "cell_type": "code",
   "execution_count": null,
   "id": "047e759c-f0a2-4710-99be-471bde022125",
   "metadata": {},
   "outputs": [],
   "source": [
    "# wrapping cond OR\n",
    "m.eval(ULE(x, w1.end)), m.eval(ULE(w1.start, x))"
   ]
  },
  {
   "cell_type": "code",
   "execution_count": null,
   "id": "6876d897-8e49-4514-b948-20d85356c9b3",
   "metadata": {},
   "outputs": [],
   "source": []
  }
 ],
 "metadata": {
  "kernelspec": {
   "display_name": "Python 3 (ipykernel)",
   "language": "python",
   "name": "python3"
  },
  "language_info": {
   "codemirror_mode": {
    "name": "ipython",
    "version": 3
   },
   "file_extension": ".py",
   "mimetype": "text/x-python",
   "name": "python",
   "nbconvert_exporter": "python",
   "pygments_lexer": "ipython3",
   "version": "3.11.5"
  }
 },
 "nbformat": 4,
 "nbformat_minor": 5
}
